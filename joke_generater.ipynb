{
 "cells": [
  {
   "cell_type": "code",
   "execution_count": 1,
   "metadata": {},
   "outputs": [],
   "source": [
    "import pandas as pd\n",
    "import re\n",
    "import torch\n",
    "from transformers import GPT2Tokenizer, GPT2LMHeadModel, Trainer, TrainingArguments, DataCollatorForLanguageModeling\n",
    "from datasets import Dataset"
   ]
  },
  {
   "cell_type": "code",
   "execution_count": 99,
   "metadata": {},
   "outputs": [
    {
     "name": "stderr",
     "output_type": "stream",
     "text": [
      "/opt/anaconda3/envs/maui/lib/python3.11/site-packages/transformers/tokenization_utils_base.py:1601: FutureWarning: `clean_up_tokenization_spaces` was not set. It will be set to `True` by default. This behavior will be depracted in transformers v4.45, and will be then set to `False` by default. For more details check this issue: https://github.com/huggingface/transformers/issues/31884\n",
      "  warnings.warn(\n"
     ]
    },
    {
     "data": {
      "text/plain": [
       "GPT2LMHeadModel(\n",
       "  (transformer): GPT2Model(\n",
       "    (wte): Embedding(50258, 768)\n",
       "    (wpe): Embedding(1024, 768)\n",
       "    (drop): Dropout(p=0.1, inplace=False)\n",
       "    (h): ModuleList(\n",
       "      (0-11): 12 x GPT2Block(\n",
       "        (ln_1): LayerNorm((768,), eps=1e-05, elementwise_affine=True)\n",
       "        (attn): GPT2SdpaAttention(\n",
       "          (c_attn): Conv1D()\n",
       "          (c_proj): Conv1D()\n",
       "          (attn_dropout): Dropout(p=0.1, inplace=False)\n",
       "          (resid_dropout): Dropout(p=0.1, inplace=False)\n",
       "        )\n",
       "        (ln_2): LayerNorm((768,), eps=1e-05, elementwise_affine=True)\n",
       "        (mlp): GPT2MLP(\n",
       "          (c_fc): Conv1D()\n",
       "          (c_proj): Conv1D()\n",
       "          (act): NewGELUActivation()\n",
       "          (dropout): Dropout(p=0.1, inplace=False)\n",
       "        )\n",
       "      )\n",
       "    )\n",
       "    (ln_f): LayerNorm((768,), eps=1e-05, elementwise_affine=True)\n",
       "  )\n",
       "  (lm_head): Linear(in_features=768, out_features=50258, bias=False)\n",
       ")"
      ]
     },
     "execution_count": 99,
     "metadata": {},
     "output_type": "execute_result"
    }
   ],
   "source": [
    "device = \"mps\"\n",
    "\n",
    "# Load pre-trained GPT-2 model and tokenizer\n",
    "model_name = \"gpt2\"\n",
    "tokenizer = GPT2Tokenizer.from_pretrained(model_name)\n",
    "\n",
    "tokenizer.add_special_tokens({'pad_token': '<|pad|>'})\n",
    "\n",
    "# Load the pre-trained model\n",
    "model = GPT2LMHeadModel.from_pretrained(model_name)\n",
    "model.resize_token_embeddings(len(tokenizer))  \n",
    "model.config.pad_token_id = tokenizer.pad_token_id\n",
    "model.to(device)"
   ]
  },
  {
   "cell_type": "code",
   "execution_count": 100,
   "metadata": {},
   "outputs": [],
   "source": [
    "# Cleaning functions\n",
    "def clean_whitespace(text):\n",
    "    return \" \".join(text.split())\n",
    "\n",
    "def clean_punctuation(text):\n",
    "    text = re.sub(r\"\\s+([?.!,])\", r\"\\1\", text)  \n",
    "    text = re.sub(r\"([?.!,])(?=\\S)\", r\"\\1 \", text) \n",
    "    return text.strip()\n",
    "\n",
    "def remove_special_characters(text):\n",
    "    return re.sub(r\"[^a-zA-Z0-9\\s,.!?]\", \"\", text)\n",
    "\n",
    "def normalize_case(text):\n",
    "    return text.lower()\n",
    "\n",
    "def add_eos_token(text):\n",
    "    return text + tokenizer.eos_token\n",
    "\n",
    "def remove_links(text):\n",
    "    return re.sub(r\"http\\S+|www\\S+|https\\S+\", \"\", text)\n",
    "\n",
    "def clean_joke(joke):\n",
    "    joke = remove_links(joke)          # Remove links\n",
    "    joke = clean_whitespace(joke)      # Clean up whitespace\n",
    "    joke = clean_punctuation(joke)     # Adjust punctuation\n",
    "    joke = remove_special_characters(joke)  # Remove special characters\n",
    "    joke = normalize_case(joke)        # Normalize case\n",
    "    joke = add_eos_token(joke)         # Add EOS token\n",
    "    joke = clean_whitespace(joke)      # Clean up whitespace\n",
    "    return joke\n",
    "\n",
    "# Load and clean your dataset using pandas\n",
    "df = pd.read_csv('data_/data.csv')\n",
    "df['Joke'] = df['Joke'].apply(clean_joke)\n",
    "\n",
    "# Convert the DataFrame to a Hugging Face Dataset\n",
    "dataset = Dataset.from_pandas(df)"
   ]
  },
  {
   "cell_type": "code",
   "execution_count": 101,
   "metadata": {},
   "outputs": [],
   "source": [
    "import matplotlib.pyplot as plt\n",
    "from transformers import TrainerCallback, TrainerState, TrainerControl\n",
    "\n",
    "class LossLoggerCallback(TrainerCallback):\n",
    "    def __init__(self):\n",
    "        self.train_loss = []\n",
    "        self.eval_loss = []\n",
    "\n",
    "    def on_log(self, args, state: TrainerState, control: TrainerControl, **kwargs):\n",
    "        if \"loss\" in state.log_history[-1]:\n",
    "            self.train_loss.append((state.global_step, state.log_history[-1][\"loss\"]))\n",
    "        if \"eval_loss\" in state.log_history[-1]:\n",
    "            self.eval_loss.append((state.global_step, state.log_history[-1][\"eval_loss\"]))\n",
    "\n",
    "loss_logger = LossLoggerCallback()\n"
   ]
  },
  {
   "cell_type": "code",
   "execution_count": 102,
   "metadata": {},
   "outputs": [
    {
     "data": {
      "application/vnd.jupyter.widget-view+json": {
       "model_id": "908c708524284219ad184d17fb6b411f",
       "version_major": 2,
       "version_minor": 0
      },
      "text/plain": [
       "Map:   0%|          | 0/1622 [00:00<?, ? examples/s]"
      ]
     },
     "metadata": {},
     "output_type": "display_data"
    },
    {
     "data": {
      "application/vnd.jupyter.widget-view+json": {
       "model_id": "6923769637b243fe99cba2ec501c0bbd",
       "version_major": 2,
       "version_minor": 0
      },
      "text/plain": [
       "  0%|          | 0/3045 [00:00<?, ?it/s]"
      ]
     },
     "metadata": {},
     "output_type": "display_data"
    },
    {
     "name": "stdout",
     "output_type": "stream",
     "text": [
      "{'loss': 6.1524, 'grad_norm': 7.144935607910156, 'learning_rate': 9.671592775041052e-05, 'epoch': 0.49}\n",
      "{'loss': 3.8511, 'grad_norm': 6.063092231750488, 'learning_rate': 9.343185550082102e-05, 'epoch': 0.99}\n",
      "{'loss': 3.1287, 'grad_norm': 5.387673854827881, 'learning_rate': 9.014778325123154e-05, 'epoch': 1.48}\n",
      "{'loss': 3.0612, 'grad_norm': 6.0859761238098145, 'learning_rate': 8.686371100164204e-05, 'epoch': 1.97}\n",
      "{'loss': 2.5201, 'grad_norm': 7.414225101470947, 'learning_rate': 8.357963875205255e-05, 'epoch': 2.46}\n",
      "{'loss': 2.4858, 'grad_norm': 6.12352991104126, 'learning_rate': 8.029556650246307e-05, 'epoch': 2.96}\n",
      "{'loss': 2.0229, 'grad_norm': 8.128273963928223, 'learning_rate': 7.701149425287356e-05, 'epoch': 3.45}\n",
      "{'loss': 1.9963, 'grad_norm': 6.570198059082031, 'learning_rate': 7.372742200328408e-05, 'epoch': 3.94}\n",
      "{'loss': 1.5895, 'grad_norm': 8.832693099975586, 'learning_rate': 7.044334975369458e-05, 'epoch': 4.43}\n",
      "{'loss': 1.6026, 'grad_norm': 7.101964473724365, 'learning_rate': 6.715927750410509e-05, 'epoch': 4.93}\n",
      "{'loss': 1.2688, 'grad_norm': 7.828842639923096, 'learning_rate': 6.387520525451561e-05, 'epoch': 5.42}\n",
      "{'loss': 1.306, 'grad_norm': 8.238152503967285, 'learning_rate': 6.0591133004926113e-05, 'epoch': 5.91}\n",
      "{'loss': 1.055, 'grad_norm': 6.16149377822876, 'learning_rate': 5.730706075533662e-05, 'epoch': 6.4}\n",
      "{'loss': 1.0538, 'grad_norm': 6.786305904388428, 'learning_rate': 5.402298850574713e-05, 'epoch': 6.9}\n",
      "{'loss': 0.8856, 'grad_norm': 6.285498142242432, 'learning_rate': 5.0738916256157644e-05, 'epoch': 7.39}\n",
      "{'loss': 0.89, 'grad_norm': 6.44440221786499, 'learning_rate': 4.745484400656814e-05, 'epoch': 7.88}\n",
      "{'loss': 0.7622, 'grad_norm': 5.53176736831665, 'learning_rate': 4.4170771756978655e-05, 'epoch': 8.37}\n",
      "{'loss': 0.7642, 'grad_norm': 4.969454765319824, 'learning_rate': 4.088669950738917e-05, 'epoch': 8.87}\n",
      "{'loss': 0.6701, 'grad_norm': 6.169382572174072, 'learning_rate': 3.7602627257799673e-05, 'epoch': 9.36}\n",
      "{'loss': 0.6484, 'grad_norm': 5.772734642028809, 'learning_rate': 3.4318555008210186e-05, 'epoch': 9.85}\n",
      "{'loss': 0.6075, 'grad_norm': 6.220801830291748, 'learning_rate': 3.103448275862069e-05, 'epoch': 10.34}\n",
      "{'loss': 0.5955, 'grad_norm': 4.811156749725342, 'learning_rate': 2.77504105090312e-05, 'epoch': 10.84}\n",
      "{'loss': 0.5671, 'grad_norm': 4.868645668029785, 'learning_rate': 2.446633825944171e-05, 'epoch': 11.33}\n",
      "{'loss': 0.5413, 'grad_norm': 4.991725921630859, 'learning_rate': 2.1182266009852215e-05, 'epoch': 11.82}\n",
      "{'loss': 0.5153, 'grad_norm': 4.558409690856934, 'learning_rate': 1.7898193760262728e-05, 'epoch': 12.32}\n",
      "{'loss': 0.5149, 'grad_norm': 3.5903046131134033, 'learning_rate': 1.4614121510673234e-05, 'epoch': 12.81}\n",
      "{'loss': 0.4884, 'grad_norm': 4.035667419433594, 'learning_rate': 1.1330049261083744e-05, 'epoch': 13.3}\n",
      "{'loss': 0.4882, 'grad_norm': 5.408969402313232, 'learning_rate': 8.045977011494253e-06, 'epoch': 13.79}\n",
      "{'loss': 0.4705, 'grad_norm': 4.330721855163574, 'learning_rate': 4.7619047619047615e-06, 'epoch': 14.29}\n",
      "{'loss': 0.46, 'grad_norm': 3.9483988285064697, 'learning_rate': 1.477832512315271e-06, 'epoch': 14.78}\n",
      "{'train_runtime': 609.1309, 'train_samples_per_second': 39.942, 'train_steps_per_second': 4.999, 'train_loss': 1.4178308953596845, 'epoch': 15.0}\n"
     ]
    },
    {
     "data": {
      "text/plain": [
       "TrainOutput(global_step=3045, training_loss=1.4178308953596845, metrics={'train_runtime': 609.1309, 'train_samples_per_second': 39.942, 'train_steps_per_second': 4.999, 'total_flos': 620823744000000.0, 'train_loss': 1.4178308953596845, 'epoch': 15.0})"
      ]
     },
     "execution_count": 102,
     "metadata": {},
     "output_type": "execute_result"
    }
   ],
   "source": [
    "\n",
    "\n",
    "# Tokenization function\n",
    "def tokenize_function(examples):\n",
    "    return tokenizer(\n",
    "        examples['Joke'],\n",
    "        truncation=True,\n",
    "        padding=True,\n",
    "        max_length=50,\n",
    "    )\n",
    "\n",
    "# Tokenize the dataset\n",
    "tokenized_dataset = dataset.map(tokenize_function, batched=True)\n",
    "tokenized_dataset = tokenized_dataset.remove_columns(['ID', 'Joke'])\n",
    "\n",
    "data_collator = DataCollatorForLanguageModeling(\n",
    "    tokenizer=tokenizer,\n",
    "    mlm=False  \n",
    ")\n",
    "\n",
    "model.config.resid_pdrop = 0.4\n",
    "model.config.embd_pdrop = 0.4\n",
    "\n",
    "# Define simplified training arguments\n",
    "training_args = TrainingArguments(\n",
    "    output_dir=\"./gpt2-jokes-finetuned\",\n",
    "    overwrite_output_dir=True, \n",
    "    num_train_epochs=15,                 \n",
    "    per_device_train_batch_size=8,        \n",
    "    learning_rate=1e-4,                   \n",
    "    logging_steps=100,                    \n",
    "    save_steps=1000,                      \n",
    "    save_total_limit=1,                   \n",
    "    weight_decay=0.05, \n",
    "    max_grad_norm= 1.0,\n",
    "    #warmup_steps=500\n",
    "\n",
    "\n",
    ")\n",
    "\n",
    "# model.config.resid_pdrop = 0.4\n",
    "# model.config.embd_pdrop = 0.4\n",
    "\n",
    "# # Define simplified training arguments\n",
    "# training_args = TrainingArguments(\n",
    "#     output_dir=\"./gpt2-jokes-finetuned\",\n",
    "#     overwrite_output_dir=True, \n",
    "#     num_train_epochs=10,                 \n",
    "#     per_device_train_batch_size=16,        \n",
    "#     learning_rate=1e-4,                   \n",
    "#     logging_steps=100,                    \n",
    "#     save_steps=1000,                      \n",
    "#     save_total_limit=1,                   \n",
    "#     weight_decay=0.15, \n",
    "#     max_grad_norm= .5,\n",
    "#     warmup_steps=500\n",
    "\n",
    "\n",
    "# )\n",
    "\n",
    "trainer = Trainer(\n",
    "    model=model,\n",
    "    args=training_args,\n",
    "    train_dataset=tokenized_dataset,\n",
    "    data_collator=data_collator,\n",
    ")\n",
    "\n",
    "trainer.add_callback(loss_logger)\n",
    "\n",
    "trainer.train()"
   ]
  },
  {
   "cell_type": "code",
   "execution_count": 103,
   "metadata": {},
   "outputs": [
    {
     "data": {
      "image/png": "[encoded data removed]",
      "text/plain": [
       "<Figure size 1000x600 with 1 Axes>"
      ]
     },
     "metadata": {},
     "output_type": "display_data"
    }
   ],
   "source": [
    "train_steps, train_losses = zip(*loss_logger.train_loss)\n",
    "\n",
    "plt.figure(figsize=(10, 6))\n",
    "plt.plot(train_steps[1:], train_losses[1:], label='Training Loss')\n",
    "plt.xlabel('Steps (200 steps ~ one epoch)')\n",
    "plt.ylabel('Loss')\n",
    "plt.title('Training Loss')\n",
    "plt.legend()\n",
    "plt.show()"
   ]
  },
  {
   "cell_type": "code",
   "execution_count": 111,
   "metadata": {},
   "outputs": [
    {
     "name": "stdout",
     "output_type": "stream",
     "text": [
      "\n",
      "Jokes starting with What did the:\n",
      "What did the mom say when her baby steps outside her house? i think he wants a bath!\n",
      "What did the french butter say when it got cold? beurre... i can make anything rome\n",
      "What did the rabbit say to the rabbit hunter? quack, quack, quack. \n",
      "\n",
      "Jokes starting with What do you:\n",
      "What do you call a fish with no eyes? a fsh\n",
      "What do you get when you drop a piano in the middle of the road? a flat minor.\n",
      "What do you get when you cross kazakhstani with a broad brush? a broad brush\n",
      "\n",
      "Jokes starting with Why did the:\n",
      "Why did the rope beech beech tree? because its a bit unwieldy to put up.\n",
      "Why did the grocery delivery guy get fired? he drove people bananas!\n",
      "Why did the bullet stay home? because he got a job helping to save the town from destruction.\n",
      "\n",
      "Jokes starting with When i was:\n",
      "When i was told that by a smart white supremacist, this was the first time i heard that term... well, i muttered.\n",
      "When i was little, my grandpa wanted to see her married. she wanted to go to a bridal shower and get a divorce. but she was turned away.\n",
      "When i was little, i didnt know what to watch. my grandma told me this joke the first time around.\n"
     ]
    }
   ],
   "source": [
    "def generate_joke(prompt, max_length=50, num_return_sequences=3):\n",
    "    input_ids = tokenizer.encode(prompt, return_tensors=\"pt\").to(device)\n",
    "    \n",
    "    outputs = model.generate(\n",
    "        input_ids,\n",
    "        max_length=max_length,\n",
    "        num_return_sequences=num_return_sequences,\n",
    "        eos_token_id=tokenizer.eos_token_id,   \n",
    "        pad_token_id=tokenizer.pad_token_id, \n",
    "        do_sample=True,\n",
    "        top_k=50,\n",
    "        top_p=.8,\n",
    "        temperature= 1.2,\n",
    "    )\n",
    "\n",
    "    # Decode and return the generated joke\n",
    "    jokes = [tokenizer.decode(output, skip_special_tokens=True) for output in outputs]\n",
    "    return jokes\n",
    "\n",
    "\n",
    "prompts = [\"What did the\", \"What do you\", \"Why did the\", \"When i was\"]\n",
    "\n",
    "for prompt in prompts:\n",
    "    jokes = generate_joke(prompt)\n",
    "    print(f'\\nJokes starting with {prompt}:')\n",
    "    for joke in jokes:\n",
    "        print(joke)"
   ]
  },
  {
   "cell_type": "code",
   "execution_count": null,
   "metadata": {},
   "outputs": [],
   "source": []
  }
 ],
 "metadata": {
  "kernelspec": {
   "display_name": "maui",
   "language": "python",
   "name": "python3"
  },
  "language_info": {
   "codemirror_mode": {
    "name": "ipython",
    "version": 3
   },
   "file_extension": ".py",
   "mimetype": "text/x-python",
   "name": "python",
   "nbconvert_exporter": "python",
   "pygments_lexer": "ipython3",
   "version": "3.11.0"
  }
 },
 "nbformat": 4,
 "nbformat_minor": 2
}
