{
 "cells": [
  {
   "cell_type": "code",
   "execution_count": 1,
   "metadata": {},
   "outputs": [],
   "source": [
    "import os\n",
    "import re\n",
    "import numpy as np\n",
    "import pandas as pd\n",
    "import matplotlib.pyplot as plt\n",
    "import nltk\n",
    "\n",
    "from transformers import DistilBertTokenizer, DistilBertForSequenceClassification, TrainerCallback, TrainerState, TrainerControl, Trainer, TrainingArguments\n",
    "from datasets import Dataset\n",
    "from sklearn.metrics import accuracy_score, precision_recall_fscore_support\n",
    "from nltk.corpus import stopwords\n",
    "from nltk.tokenize import word_tokenize \n"
   ]
  },
  {
   "cell_type": "code",
   "execution_count": 2,
   "metadata": {},
   "outputs": [
    {
     "name": "stderr",
     "output_type": "stream",
     "text": [
      "[nltk_data] Downloading package stopwords to\n",
      "[nltk_data]     /Users/graysonlevy/nltk_data...\n",
      "[nltk_data]   Package stopwords is already up-to-date!\n",
      "[nltk_data] Downloading package punkt_tab to\n",
      "[nltk_data]     /Users/graysonlevy/nltk_data...\n",
      "[nltk_data]   Package punkt_tab is already up-to-date!\n"
     ]
    },
    {
     "data": {
      "text/plain": [
       "True"
      ]
     },
     "execution_count": 2,
     "metadata": {},
     "output_type": "execute_result"
    }
   ],
   "source": [
    "nltk.download('stopwords')\n",
    "nltk.download('punkt_tab')"
   ]
  },
  {
   "cell_type": "code",
   "execution_count": 3,
   "metadata": {},
   "outputs": [],
   "source": [
    "\n",
    "\n",
    "def load_data(directory):\n",
    "    texts = []\n",
    "    labels = []\n",
    "    indices = [] \n",
    "\n",
    "    for label_type in ['pos', 'neg']:\n",
    "        dir_name = os.path.join(directory, label_type)\n",
    "        for fname in os.listdir(dir_name):\n",
    "            if fname.endswith(\".txt\"):\n",
    "                # Extract index from filename\n",
    "                index = int(fname.split('_')[0])\n",
    "                with open(os.path.join(dir_name, fname), 'r', encoding='utf-8') as f:\n",
    "                    texts.append(f.read())\n",
    "                indices.append(f\"{label_type}_{index}\")  # Track the index and folder\n",
    "                # Label: positive (1) or negative (0)\n",
    "                if label_type == 'pos':\n",
    "                    labels.append(1)\n",
    "                else:\n",
    "                    labels.append(0)\n",
    "    return texts, labels, indices\n",
    "\n",
    "\n",
    "train_dir = 'data_/train'  \n",
    "test_dir = 'data_/test'    \n",
    "\n",
    "# Load train and test data\n",
    "train_texts, train_labels, train_indices = load_data(train_dir)\n",
    "test_texts, test_labels, test_indices = load_data(test_dir)\n",
    "\n",
    "# Convert labels to numpy arrays\n",
    "train_labels = np.array(train_labels)\n",
    "test_labels = np.array(test_labels)\n"
   ]
  },
  {
   "cell_type": "code",
   "execution_count": 4,
   "metadata": {},
   "outputs": [
    {
     "name": "stdout",
     "output_type": "stream",
     "text": [
      "First few train indices: ['neg_3307', 'neg_2240', 'neg_11556', 'neg_4617', 'neg_9788']\n",
      "First few train labels: [0 0 0 0 0]\n"
     ]
    },
    {
     "data": {
      "text/plain": [
       "['My comments may be a bit of a spoiler, for what it\\'s worth. Stop now if you care enough....<br /><br />Saving Grace should have been titled \"A Paper-Thin Excuse for Old British Women to Get High On-Screen.\" This film is dumb. The incidental music is an annoyance as are the obvious, hackneyed tunes that sporadically pop up to comment on the narrative (\"Spirit in the Sky,\" for example - Oh, I get it!) This is basically a Cheech and Chong movie made credible by its stodgy English setting and Brenda Blethyn\\'s overwhelming power to inflict emotion on an audience using her voice alone. I could literally hear the folks over at High Times magazine receiving their jollies over the enormous \"buds\" that litter this picture. Worst scene? Easy. Brenda attempts to peddle her illicit wares on the street of London in a blaring white dress-suit. Not funny. Not original. Not interesting. Not a good movie. The 7.2 rating is the result of zealots over-voting. Don\\'t waste your time...',\n",
       " 'The \"saucy\" misadventures of four au pairs who arrive in London on the same day in the early 1970s. There\\'s a Swedish girl, a Danish, a German and a Chinese. The story contrives to get the clothes off all of them, involve them in some Carry On-type humour and couple them with various misfits from the British film and TV culture of the time, including Man About the House star Richard O\\'Sullivan, future Coronation Street rogue Johnny Briggs and horror film stalwart Ferdy Mayne (playing a sheik). There\\'s a pretty risqué amount of female nudity on display, for those who like that kind of thing (but obviously nothing hardcore).<br /><br />Most of the film is pretty thin and inconsequential; the girls are stereotypes, and German Anita especially suffers from some kind of infantalising disorder - she\\'s a moron obsessed with colour TV who acts like a kind of uninhibited child & dresses to deliberately show her private parts; in another more serious film, she would be a psychiatric case. The most interesting section of the film involves the Swedish girl being taken to a club in London where some dodgy types are still trying to swing, being seduced by a middle-aged rocker, losing her virginity and realising that the scene is not for her. These sequences have some energy in them and point to a more intriguing film than we\\'ve ended up with, in which promiscuity and the dregs of the music business and upper classes live soulless and seedy lives (there\\'s a fine turn by John Standing as an impotent public school roué). The strangest of the stories has the Chinese girl (future cannibal film veteran Me Me Lay) getting off with her childish piano prodigy employer, falling mutually in love with and then leaving in the middle of the night for no good reason at all, except some orientalist notion that \"Chinese birds are inscrutable, ain\\'t they?!\" The film is pretty demeaning to its women characters and there\\'s a smattering of homophobia in the dialogue and one of the characterisations. The end is striking, as Mayne\\'s sheik for no earthly reason (except they have to end the film somehow) whisks all of the girls away to his Arab kingdom for what looks to all the world like a future in the white slave trade, which they are all delighted about.<br /><br />Stuff and nonsense for the most part then, but directed with a fair amount of skill by veteran Val Guest, which puts it as a piece of film-making a notch above most of the 70s Brit sexploitation flicks.',\n",
       " 'Oh, those Italians! Assuming that movies about aristocrats with weird fetishes, castles drowned in gothic atmosphere, and back-stabbing relatives trying to get their hands on an inheritance are inherently interesting to all! If you\\'ve seen one film of this type, you\\'ve basically seen them all (the MST3K favorite \"Screaming Skull\" fits the mold, too)...and \"The Night Evelyn Came Out of the Grave\" is formulaic, by-the-numbers, and dull as hell. Even the luscious Erika Blanc is put to waste here.<br /><br />zero/10<br /><br />',\n",
       " 'Eight academy nominations? It\\'s beyond belief. I can only think it was a very bad year - even by Hollywood standards. With Huston as director and Jack Nicholson and Kathleen Turner as leads I probably would have swallowed the bait and watched this anyway, but the Oscar nominations really sold it to me, and I feel distinctly cheated as a result.<br /><br />So it\\'s a black comedy is it? Can anyone tell me where the humour is in Prizzi\\'s Honor? It\\'s certainly tasteless (the shooting in the head of a policeman\\'s wife is but another supposedly comic interlude in this intended farce about mafia life) but with the exception of a joke about \\'your favourite Mexican cigars\\' (which I imagine is an old joke for Americans who have been officially forbidden from buying anything Cuban for the last 50 years) I failed to spot anything of a comic nature - and I did try. There is a lot of Mafia cliché but cliché doesn\\'t constitute humour in my book.<br /><br />Is it a romantic comedy of sorts? Never. The characters and their relationships are so completely incredible and shallow that they are on a par with Ben Afleck and Jennifer Lopez in Gigli.<br /><br />Is it a cleverly devised parody about the Mafia? Not in a million years. The plot is just pointlessly absurd rather than comically absurd, and it usually just has the feel of a really bad (and cheap) Mafia movie. It feels more like a homage than a parody.<br /><br />With one-dimensional characters and little in the way of humour written for them, the actors are left doing dodgy accents and pulling faces. Well it isn\\'t enough; even when the face is being pulled by that master of the comic facial expression, Jack Nicholson (repleat with puffed up top lip ... now is that meant to be a parody of Brando\\'s padded jowls in The Godfather?... Oh! Who cares?... all I know is, it isn\\'t funny).<br /><br />Throw in some slow, plodding direction (this film drags on for 2 hours), some hopelessly daft and clichéd dialogue such as; \"You remember the Camora? Well we\\'re far bigger, we\\'ll track you down wherever you go\", and clichéd mannerisms and you\\'ll be reaching for that fast forward button before you can say \"capiche?\". Prizzi\\'s Honor is far from being Huston\\'s \"masterpiece\" and is rather a very poor last work. It\\'s definitely one work in the great director\\'s canon that should be given a concrete overcoat and tossed into the Hudson River.',\n",
       " 'Not that I dislike childrens movies, but this was a tearjerker with few redeeming qualities. M.J. Fox was the perfect voice for Stuart and the rest of the talent was wasted. Hugh Laurie can be amazingly funny, but is not given the chance in this movie. It´s sugar-coated sugar and would hardly appeal to anyone over 7 years of age. See Toy Story, Monsters Inc. or Shrek instead. 3/10']"
      ]
     },
     "execution_count": 4,
     "metadata": {},
     "output_type": "execute_result"
    }
   ],
   "source": [
    "# Self verify correct input\n",
    "print(f\"First few train indices: {train_indices[-5:]}\")\n",
    "print(f\"First few train labels: {train_labels[-5:]}\")\n",
    "train_texts[-5:]"
   ]
  },
  {
   "cell_type": "code",
   "execution_count": 5,
   "metadata": {},
   "outputs": [],
   "source": [
    "stop_words = set(stopwords.words('english'))\n",
    "\n",
    "def clean_text(text):\n",
    "    # Remove punctuation and special characters\n",
    "    text = re.sub(r'[^\\w\\s]', '', text.lower())\n",
    "    # Tokenize the text\n",
    "    words = word_tokenize(text)\n",
    "    # # Remove stop words\n",
    "    # words = [word for word in words if word not in stop_words]\n",
    "    return ' '.join(words)\n",
    "\n",
    "\n",
    "# Apply the text cleaning\n",
    "train_texts = [clean_text(text) for text in train_texts]\n",
    "test_texts = [clean_text(text) for text in test_texts]"
   ]
  },
  {
   "cell_type": "code",
   "execution_count": 6,
   "metadata": {},
   "outputs": [
    {
     "data": {
      "text/plain": [
       "['my comments may be a bit of a spoiler for what its worth stop now if you care enoughbr br saving grace should have been titled a paperthin excuse for old british women to get high onscreen this film is dumb the incidental music is an annoyance as are the obvious hackneyed tunes that sporadically pop up to comment on the narrative spirit in the sky for example oh i get it this is basically a cheech and chong movie made credible by its stodgy english setting and brenda blethyns overwhelming power to inflict emotion on an audience using her voice alone i could literally hear the folks over at high times magazine receiving their jollies over the enormous buds that litter this picture worst scene easy brenda attempts to peddle her illicit wares on the street of london in a blaring white dresssuit not funny not original not interesting not a good movie the 72 rating is the result of zealots overvoting dont waste your time',\n",
       " 'the saucy misadventures of four au pairs who arrive in london on the same day in the early 1970s theres a swedish girl a danish a german and a chinese the story contrives to get the clothes off all of them involve them in some carry ontype humour and couple them with various misfits from the british film and tv culture of the time including man about the house star richard osullivan future coronation street rogue johnny briggs and horror film stalwart ferdy mayne playing a sheik theres a pretty risqué amount of female nudity on display for those who like that kind of thing but obviously nothing hardcorebr br most of the film is pretty thin and inconsequential the girls are stereotypes and german anita especially suffers from some kind of infantalising disorder shes a moron obsessed with colour tv who acts like a kind of uninhibited child dresses to deliberately show her private parts in another more serious film she would be a psychiatric case the most interesting section of the film involves the swedish girl being taken to a club in london where some dodgy types are still trying to swing being seduced by a middleaged rocker losing her virginity and realising that the scene is not for her these sequences have some energy in them and point to a more intriguing film than weve ended up with in which promiscuity and the dregs of the music business and upper classes live soulless and seedy lives theres a fine turn by john standing as an impotent public school roué the strangest of the stories has the chinese girl future cannibal film veteran me me lay getting off with her childish piano prodigy employer falling mutually in love with and then leaving in the middle of the night for no good reason at all except some orientalist notion that chinese birds are inscrutable aint they the film is pretty demeaning to its women characters and theres a smattering of homophobia in the dialogue and one of the characterisations the end is striking as maynes sheik for no earthly reason except they have to end the film somehow whisks all of the girls away to his arab kingdom for what looks to all the world like a future in the white slave trade which they are all delighted aboutbr br stuff and nonsense for the most part then but directed with a fair amount of skill by veteran val guest which puts it as a piece of filmmaking a notch above most of the 70s brit sexploitation flicks',\n",
       " 'oh those italians assuming that movies about aristocrats with weird fetishes castles drowned in gothic atmosphere and backstabbing relatives trying to get their hands on an inheritance are inherently interesting to all if youve seen one film of this type youve basically seen them all the mst3k favorite screaming skull fits the mold tooand the night evelyn came out of the grave is formulaic bythenumbers and dull as hell even the luscious erika blanc is put to waste herebr br zero10br br',\n",
       " 'eight academy nominations its beyond belief i can only think it was a very bad year even by hollywood standards with huston as director and jack nicholson and kathleen turner as leads i probably would have swallowed the bait and watched this anyway but the oscar nominations really sold it to me and i feel distinctly cheated as a resultbr br so its a black comedy is it can anyone tell me where the humour is in prizzis honor its certainly tasteless the shooting in the head of a policemans wife is but another supposedly comic interlude in this intended farce about mafia life but with the exception of a joke about your favourite mexican cigars which i imagine is an old joke for americans who have been officially forbidden from buying anything cuban for the last 50 years i failed to spot anything of a comic nature and i did try there is a lot of mafia cliché but cliché doesnt constitute humour in my bookbr br is it a romantic comedy of sorts never the characters and their relationships are so completely incredible and shallow that they are on a par with ben afleck and jennifer lopez in giglibr br is it a cleverly devised parody about the mafia not in a million years the plot is just pointlessly absurd rather than comically absurd and it usually just has the feel of a really bad and cheap mafia movie it feels more like a homage than a parodybr br with onedimensional characters and little in the way of humour written for them the actors are left doing dodgy accents and pulling faces well it isnt enough even when the face is being pulled by that master of the comic facial expression jack nicholson repleat with puffed up top lip now is that meant to be a parody of brandos padded jowls in the godfather oh who cares all i know is it isnt funnybr br throw in some slow plodding direction this film drags on for 2 hours some hopelessly daft and clichéd dialogue such as you remember the camora well were far bigger well track you down wherever you go and clichéd mannerisms and youll be reaching for that fast forward button before you can say capiche prizzis honor is far from being hustons masterpiece and is rather a very poor last work its definitely one work in the great directors canon that should be given a concrete overcoat and tossed into the hudson river',\n",
       " 'not that i dislike childrens movies but this was a tearjerker with few redeeming qualities mj fox was the perfect voice for stuart and the rest of the talent was wasted hugh laurie can be amazingly funny but is not given the chance in this movie its sugarcoated sugar and would hardly appeal to anyone over 7 years of age see toy story monsters inc or shrek instead 310']"
      ]
     },
     "execution_count": 6,
     "metadata": {},
     "output_type": "execute_result"
    }
   ],
   "source": [
    "train_texts[-5:]"
   ]
  },
  {
   "cell_type": "code",
   "execution_count": 7,
   "metadata": {},
   "outputs": [],
   "source": [
    "\n",
    "# Create a dictionary with text and labels\n",
    "data_dict_train = {\"text\": train_texts, \"label\": train_labels}\n",
    "data_dict_test = {\"text\": test_texts, \"label\": test_labels}\n",
    "\n",
    "# Convert to Hugging Face Dataset\n",
    "train_dataset = Dataset.from_dict(data_dict_train)\n",
    "test_dataset = Dataset.from_dict(data_dict_test)\n",
    "\n",
    "# Split the training dataset\n",
    "train_valid_split = train_dataset.train_test_split(test_size=0.2)\n",
    "train_dataset = train_valid_split['train']\n",
    "valid_dataset = train_valid_split['test']"
   ]
  },
  {
   "cell_type": "code",
   "execution_count": 8,
   "metadata": {},
   "outputs": [
    {
     "name": "stderr",
     "output_type": "stream",
     "text": [
      "/opt/anaconda3/envs/maui/lib/python3.11/site-packages/transformers/tokenization_utils_base.py:1601: FutureWarning: `clean_up_tokenization_spaces` was not set. It will be set to `True` by default. This behavior will be depracted in transformers v4.45, and will be then set to `False` by default. For more details check this issue: https://github.com/huggingface/transformers/issues/31884\n",
      "  warnings.warn(\n"
     ]
    },
    {
     "data": {
      "application/vnd.jupyter.widget-view+json": {
       "model_id": "cb3be4cfaf8d45d5abebe58f9c564554",
       "version_major": 2,
       "version_minor": 0
      },
      "text/plain": [
       "Map:   0%|          | 0/20000 [00:00<?, ? examples/s]"
      ]
     },
     "metadata": {},
     "output_type": "display_data"
    },
    {
     "data": {
      "application/vnd.jupyter.widget-view+json": {
       "model_id": "7a29ec229d804b518228f9a745e3645b",
       "version_major": 2,
       "version_minor": 0
      },
      "text/plain": [
       "Map:   0%|          | 0/25000 [00:00<?, ? examples/s]"
      ]
     },
     "metadata": {},
     "output_type": "display_data"
    },
    {
     "data": {
      "application/vnd.jupyter.widget-view+json": {
       "model_id": "040793d65b9d4aa3be0d4698a4892a67",
       "version_major": 2,
       "version_minor": 0
      },
      "text/plain": [
       "Map:   0%|          | 0/5000 [00:00<?, ? examples/s]"
      ]
     },
     "metadata": {},
     "output_type": "display_data"
    }
   ],
   "source": [
    "# Load the tokenizer\n",
    "tokenizer = DistilBertTokenizer.from_pretrained('distilbert-base-uncased')\n",
    "\n",
    "# Tokenization function\n",
    "def tokenize_function(examples):\n",
    "    return tokenizer(examples['text'], padding=\"max_length\", truncation=True)\n",
    "\n",
    "# Apply the tokenization function to both train and test sets\n",
    "train_dataset = train_dataset.map(tokenize_function, batched=True)\n",
    "test_dataset = test_dataset.map(tokenize_function, batched=True)\n",
    "valid_dataset = valid_dataset.map(tokenize_function, batched=True)\n",
    "\n",
    "# Formatting to match what Hugging Face expects\n",
    "train_dataset = train_dataset.rename_column(\"label\", \"labels\")\n",
    "test_dataset = test_dataset.rename_column(\"label\", \"labels\")\n",
    "valid_dataset = valid_dataset.rename_column(\"label\", \"labels\")\n",
    "\n",
    "# Set format to torch tensors\n",
    "train_dataset.set_format(type='torch', columns=['input_ids', 'attention_mask', 'labels'])\n",
    "test_dataset.set_format(type='torch', columns=['input_ids', 'attention_mask', 'labels'])\n",
    "valid_dataset.set_format(type='torch', columns=['input_ids', 'attention_mask', 'labels'])"
   ]
  },
  {
   "cell_type": "code",
   "execution_count": 38,
   "metadata": {},
   "outputs": [
    {
     "name": "stderr",
     "output_type": "stream",
     "text": [
      "Some weights of DistilBertForSequenceClassification were not initialized from the model checkpoint at distilbert-base-uncased and are newly initialized: ['classifier.bias', 'classifier.weight', 'pre_classifier.bias', 'pre_classifier.weight']\n",
      "You should probably TRAIN this model on a down-stream task to be able to use it for predictions and inference.\n"
     ]
    }
   ],
   "source": [
    "model = DistilBertForSequenceClassification.from_pretrained('distilbert-base-uncased', num_labels=2).to(\"mps\")"
   ]
  },
  {
   "cell_type": "code",
   "execution_count": 39,
   "metadata": {},
   "outputs": [],
   "source": [
    "# training_args = TrainingArguments(\n",
    "#     output_dir='./results',         \n",
    "#     overwrite_output_dir=True,  \n",
    "#     num_train_epochs=2,             \n",
    "#     per_device_train_batch_size=16, \n",
    "#     per_device_eval_batch_size=16,  \n",
    "#     warmup_steps=100,               \n",
    "#     weight_decay=0.01,              \n",
    "#     logging_dir='./logs',           \n",
    "#     logging_steps=10,\n",
    "#     gradient_accumulation_steps=4,\n",
    "#     learning_rate=1e-4,\n",
    "#     eval_strategy=\"epoch\"      \n",
    "# )\n",
    "\n",
    "training_args = TrainingArguments(\n",
    "    output_dir='./results',          \n",
    "    overwrite_output_dir=True,  \n",
    "    num_train_epochs=3,          \n",
    "    per_device_train_batch_size=8,  \n",
    "    per_device_eval_batch_size=8,   \n",
    "    warmup_steps=500,               \n",
    "    weight_decay=0.01,              \n",
    "    logging_dir='./logs',           \n",
    "    logging_steps=100,\n",
    "    gradient_accumulation_steps=4,\n",
    "    learning_rate=1e-4,\n",
    "    eval_strategy=\"epoch\"      \n",
    ")\n",
    "\n"
   ]
  },
  {
   "cell_type": "code",
   "execution_count": 40,
   "metadata": {},
   "outputs": [],
   "source": [
    "class LossLoggerCallback(TrainerCallback):\n",
    "    def __init__(self):\n",
    "        self.train_loss = []\n",
    "        self.eval_loss = []\n",
    "\n",
    "    def on_log(self, args, state: TrainerState, control: TrainerControl, **kwargs):\n",
    "        if \"loss\" in state.log_history[-1]:\n",
    "            self.train_loss.append((state.global_step, state.log_history[-1][\"loss\"]))\n",
    "        if \"eval_loss\" in state.log_history[-1]:\n",
    "            self.eval_loss.append((state.global_step, state.log_history[-1][\"eval_loss\"]))\n",
    "\n",
    "loss_logger = LossLoggerCallback()"
   ]
  },
  {
   "cell_type": "code",
   "execution_count": 41,
   "metadata": {},
   "outputs": [],
   "source": [
    "trainer = Trainer(\n",
    "    model=model,                         # the model to be trained\n",
    "    args=training_args,                  # training arguments\n",
    "    train_dataset=train_dataset,         # training dataset\n",
    "    eval_dataset=valid_dataset            # evaluation dataset\n",
    ")"
   ]
  },
  {
   "cell_type": "code",
   "execution_count": 42,
   "metadata": {},
   "outputs": [
    {
     "data": {
      "application/vnd.jupyter.widget-view+json": {
       "model_id": "c297823aac0b4d86ab6168709e26cf49",
       "version_major": 2,
       "version_minor": 0
      },
      "text/plain": [
       "  0%|          | 0/1875 [00:00<?, ?it/s]"
      ]
     },
     "metadata": {},
     "output_type": "display_data"
    },
    {
     "name": "stdout",
     "output_type": "stream",
     "text": [
      "{'loss': 0.6005, 'grad_norm': 8.656708717346191, 'learning_rate': 2e-05, 'epoch': 0.16}\n",
      "{'loss': 0.3135, 'grad_norm': 12.458120346069336, 'learning_rate': 4e-05, 'epoch': 0.32}\n",
      "{'loss': 0.3071, 'grad_norm': 5.849188327789307, 'learning_rate': 6e-05, 'epoch': 0.48}\n",
      "{'loss': 0.3257, 'grad_norm': 4.074105739593506, 'learning_rate': 8e-05, 'epoch': 0.64}\n",
      "{'loss': 0.2822, 'grad_norm': 1.940343976020813, 'learning_rate': 0.0001, 'epoch': 0.8}\n",
      "{'loss': 0.2835, 'grad_norm': 3.3515255451202393, 'learning_rate': 9.272727272727273e-05, 'epoch': 0.96}\n"
     ]
    },
    {
     "data": {
      "application/vnd.jupyter.widget-view+json": {
       "model_id": "4ffc9257ed784798b8c35e5819e4f435",
       "version_major": 2,
       "version_minor": 0
      },
      "text/plain": [
       "  0%|          | 0/625 [00:00<?, ?it/s]"
      ]
     },
     "metadata": {},
     "output_type": "display_data"
    },
    {
     "name": "stdout",
     "output_type": "stream",
     "text": [
      "{'eval_loss': 0.2353941947221756, 'eval_runtime': 68.9822, 'eval_samples_per_second': 72.482, 'eval_steps_per_second': 9.06, 'epoch': 1.0}\n",
      "{'loss': 0.2268, 'grad_norm': 3.938886880874634, 'learning_rate': 8.545454545454545e-05, 'epoch': 1.12}\n",
      "{'loss': 0.1966, 'grad_norm': 4.455935478210449, 'learning_rate': 7.818181818181818e-05, 'epoch': 1.28}\n",
      "{'loss': 0.1843, 'grad_norm': 4.46476936340332, 'learning_rate': 7.090909090909092e-05, 'epoch': 1.44}\n",
      "{'loss': 0.1665, 'grad_norm': 4.305513858795166, 'learning_rate': 6.363636363636364e-05, 'epoch': 1.6}\n",
      "{'loss': 0.1561, 'grad_norm': 2.1696696281433105, 'learning_rate': 5.636363636363636e-05, 'epoch': 1.76}\n",
      "{'loss': 0.1528, 'grad_norm': 2.5466887950897217, 'learning_rate': 4.909090909090909e-05, 'epoch': 1.92}\n"
     ]
    },
    {
     "data": {
      "application/vnd.jupyter.widget-view+json": {
       "model_id": "84f3cf89231340729e8f8b29f4614639",
       "version_major": 2,
       "version_minor": 0
      },
      "text/plain": [
       "  0%|          | 0/625 [00:00<?, ?it/s]"
      ]
     },
     "metadata": {},
     "output_type": "display_data"
    },
    {
     "name": "stdout",
     "output_type": "stream",
     "text": [
      "{'eval_loss': 0.21054406464099884, 'eval_runtime': 68.8988, 'eval_samples_per_second': 72.57, 'eval_steps_per_second': 9.071, 'epoch': 2.0}\n",
      "{'loss': 0.1115, 'grad_norm': 0.037615805864334106, 'learning_rate': 4.181818181818182e-05, 'epoch': 2.08}\n",
      "{'loss': 0.052, 'grad_norm': 0.5137200355529785, 'learning_rate': 3.454545454545455e-05, 'epoch': 2.24}\n",
      "{'loss': 0.0666, 'grad_norm': 0.7368826270103455, 'learning_rate': 2.7272727272727273e-05, 'epoch': 2.4}\n",
      "{'loss': 0.0513, 'grad_norm': 1.3389054536819458, 'learning_rate': 2e-05, 'epoch': 2.56}\n",
      "{'loss': 0.0511, 'grad_norm': 1.7797105312347412, 'learning_rate': 1.2727272727272727e-05, 'epoch': 2.72}\n",
      "{'loss': 0.0626, 'grad_norm': 0.7793963551521301, 'learning_rate': 5.4545454545454545e-06, 'epoch': 2.88}\n"
     ]
    },
    {
     "data": {
      "application/vnd.jupyter.widget-view+json": {
       "model_id": "3b23032cb3e346e9aaa74a871c02edd6",
       "version_major": 2,
       "version_minor": 0
      },
      "text/plain": [
       "  0%|          | 0/625 [00:00<?, ?it/s]"
      ]
     },
     "metadata": {},
     "output_type": "display_data"
    },
    {
     "name": "stdout",
     "output_type": "stream",
     "text": [
      "{'eval_loss': 0.2755196690559387, 'eval_runtime': 69.4398, 'eval_samples_per_second': 72.005, 'eval_steps_per_second': 9.001, 'epoch': 3.0}\n",
      "{'train_runtime': 44820.8754, 'train_samples_per_second': 1.339, 'train_steps_per_second': 0.042, 'train_loss': 0.19336711743672688, 'epoch': 3.0}\n"
     ]
    },
    {
     "data": {
      "text/plain": [
       "TrainOutput(global_step=1875, training_loss=0.19336711743672688, metrics={'train_runtime': 44820.8754, 'train_samples_per_second': 1.339, 'train_steps_per_second': 0.042, 'total_flos': 7948043919360000.0, 'train_loss': 0.19336711743672688, 'epoch': 3.0})"
      ]
     },
     "execution_count": 42,
     "metadata": {},
     "output_type": "execute_result"
    }
   ],
   "source": [
    "trainer.add_callback(loss_logger)\n",
    "\n",
    "trainer.train()"
   ]
  },
  {
   "cell_type": "code",
   "execution_count": 48,
   "metadata": {},
   "outputs": [
    {
     "data": {
      "image/png": "[encoded data removed]",
      "text/plain": [
       "<Figure size 1000x600 with 1 Axes>"
      ]
     },
     "metadata": {},
     "output_type": "display_data"
    }
   ],
   "source": [
    "# Extract the logged loss values for plotting\n",
    "train_steps, train_losses = zip(*loss_logger.train_loss)\n",
    "eval_steps, eval_losses = zip(*loss_logger.eval_loss)\n",
    "\n",
    "# Plotting the training and evaluation loss\n",
    "plt.figure(figsize=(10, 6))\n",
    "plt.plot(train_steps, train_losses, label='Training Loss')\n",
    "plt.plot(eval_steps, eval_losses, label='Evaluation Loss')\n",
    "plt.xlabel('Steps (600 steps ~ one epoch)')\n",
    "plt.ylabel('Loss')\n",
    "plt.title('Training and Evaluation Loss')\n",
    "plt.legend()\n",
    "plt.show()"
   ]
  },
  {
   "cell_type": "code",
   "execution_count": 44,
   "metadata": {},
   "outputs": [
    {
     "data": {
      "application/vnd.jupyter.widget-view+json": {
       "model_id": "d680b494126f407c8dbcc463e988673d",
       "version_major": 2,
       "version_minor": 0
      },
      "text/plain": [
       "  0%|          | 0/3125 [00:00<?, ?it/s]"
      ]
     },
     "metadata": {},
     "output_type": "display_data"
    }
   ],
   "source": [
    "# Predict the labels for the test set\n",
    "predictions = trainer.predict(test_dataset)\n",
    "predicted_labels = np.argmax(predictions.predictions, axis=1)\n"
   ]
  },
  {
   "cell_type": "code",
   "execution_count": 45,
   "metadata": {},
   "outputs": [
    {
     "data": {
      "application/vnd.jupyter.widget-view+json": {
       "model_id": "e943ef93536845628547beabbb3df295",
       "version_major": 2,
       "version_minor": 0
      },
      "text/plain": [
       "  0%|          | 0/2500 [00:00<?, ?it/s]"
      ]
     },
     "metadata": {},
     "output_type": "display_data"
    }
   ],
   "source": [
    "predictions_train = trainer.predict(train_dataset)\n",
    "predicted_labels_train = np.argmax(predictions_train.predictions, axis=1)"
   ]
  },
  {
   "cell_type": "code",
   "execution_count": 46,
   "metadata": {},
   "outputs": [
    {
     "name": "stdout",
     "output_type": "stream",
     "text": [
      "Train Set\n",
      "Accuracy: 0.9961\n",
      "Precision: 0.9958756664319485\n",
      "Recall: 0.9962765422159605\n",
      "F1 Score: 0.9960760639903411\n"
     ]
    }
   ],
   "source": [
    "# Get true labels and predicted labels\n",
    "true_labels = train_dataset[\"labels\"]  \n",
    "pred_labels = predicted_labels_train\n",
    "\n",
    "# Compute accuracy\n",
    "accuracy = accuracy_score(true_labels, pred_labels)\n",
    "\n",
    "# Compute precision, recall, and F1 score\n",
    "precision, recall, f1, _ = precision_recall_fscore_support(true_labels, pred_labels, average='binary')\n",
    "\n",
    "print(f\"Train Set\")\n",
    "print(f\"Accuracy: {accuracy}\")\n",
    "print(f\"Precision: {precision}\")\n",
    "print(f\"Recall: {recall}\")\n",
    "print(f\"F1 Score: {f1}\")"
   ]
  },
  {
   "cell_type": "code",
   "execution_count": 47,
   "metadata": {},
   "outputs": [
    {
     "name": "stdout",
     "output_type": "stream",
     "text": [
      "Test Set\n",
      "Accuracy: 0.92692\n",
      "Precision: 0.9231623186107366\n",
      "Recall: 0.93136\n",
      "F1 Score: 0.9272430408984109\n"
     ]
    }
   ],
   "source": [
    "\n",
    "# Get true labels and predicted labels\n",
    "true_labels = test_dataset[\"labels\"]  \n",
    "pred_labels = predicted_labels\n",
    "\n",
    "# Compute accuracy\n",
    "accuracy = accuracy_score(true_labels, pred_labels)\n",
    "\n",
    "# Compute precision, recall, and F1 score\n",
    "precision, recall, f1, _ = precision_recall_fscore_support(true_labels, pred_labels, average='binary')\n",
    "\n",
    "print(f\"Test Set\")\n",
    "print(f\"Accuracy: {accuracy}\")\n",
    "print(f\"Precision: {precision}\")\n",
    "print(f\"Recall: {recall}\")\n",
    "print(f\"F1 Score: {f1}\")"
   ]
  },
  {
   "cell_type": "code",
   "execution_count": null,
   "metadata": {},
   "outputs": [],
   "source": []
  }
 ],
 "metadata": {
  "kernelspec": {
   "display_name": "maui",
   "language": "python",
   "name": "python3"
  },
  "language_info": {
   "codemirror_mode": {
    "name": "ipython",
    "version": 3
   },
   "file_extension": ".py",
   "mimetype": "text/x-python",
   "name": "python",
   "nbconvert_exporter": "python",
   "pygments_lexer": "ipython3",
   "version": "3.11.0"
  }
 },
 "nbformat": 4,
 "nbformat_minor": 2
}
